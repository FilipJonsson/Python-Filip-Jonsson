{
 "cells": [
  {
   "cell_type": "code",
   "execution_count": null,
   "metadata": {},
   "outputs": [],
   "source": []
  }
 ],
 "metadata": {
  "kernelspec": {
   "display_name": "Python 3.9.13 ('Python-Filip-Jonsson-QrgXjHvV')",
   "language": "python",
   "name": "python3"
  },
  "language_info": {
   "name": "python",
   "version": "3.9.13"
  },
  "orig_nbformat": 4,
  "vscode": {
   "interpreter": {
    "hash": "bf7a075d4e88d89235e152b5ba40ae2bd384c6fbf9c5ccafacee2ba85599004a"
   }
  }
 },
 "nbformat": 4,
 "nbformat_minor": 2
}
