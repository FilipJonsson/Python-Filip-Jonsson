{
 "cells": [
  {
   "cell_type": "markdown",
   "metadata": {},
   "source": [
    "## Count with Python"
   ]
  },
  {
   "cell_type": "markdown",
   "metadata": {},
   "source": [
    "## 1. a Pythagorean theorem"
   ]
  },
  {
   "cell_type": "code",
   "execution_count": 14,
   "metadata": {},
   "outputs": [
    {
     "name": "stdout",
     "output_type": "stream",
     "text": [
      "5.0\n"
     ]
    }
   ],
   "source": [
    "import math\n",
    "\n",
    "cathet1 = a \n",
    "cathet2 = b \n",
    "\n",
    "a = 3\n",
    "b = 4 \n",
    "\n",
    "c = math.sqrt(a**2 + b**2)\n",
    "\n",
    "print (c)"
   ]
  },
  {
   "cell_type": "markdown",
   "metadata": {},
   "source": [
    "## 1. b Pythagorean theorem"
   ]
  },
  {
   "cell_type": "code",
   "execution_count": 21,
   "metadata": {},
   "outputs": [
    {
     "name": "stdout",
     "output_type": "stream",
     "text": [
      "4.898979485566356\n"
     ]
    }
   ],
   "source": [
    "import math\n",
    "from re import X \n",
    "\n",
    "cathet1 = a\n",
    "x = b\n",
    "hypothenuse = c\n",
    "\n",
    "a = 5\n",
    "b = X\n",
    "c = 7\n",
    "\n",
    "b = math.sqrt(c**2 - a**2)\n",
    "\n",
    "print (b)"
   ]
  },
  {
   "cell_type": "markdown",
   "metadata": {},
   "source": [
    "## 2. Classification accuracy"
   ]
  },
  {
   "cell_type": "code",
   "execution_count": 6,
   "metadata": {},
   "outputs": [
    {
     "name": "stdout",
     "output_type": "stream",
     "text": [
      "0.821917808219178\n"
     ]
    }
   ],
   "source": [
    "def my_function():\n",
    "    print(300/365)  \n",
    "\n",
    "my_function() "
   ]
  },
  {
   "cell_type": "markdown",
   "metadata": {},
   "source": [
    "## 3. Classification accuracy"
   ]
  },
  {
   "cell_type": "code",
   "execution_count": 28,
   "metadata": {},
   "outputs": [
    {
     "name": "stdout",
     "output_type": "stream",
     "text": [
      "0.987\n"
     ]
    }
   ],
   "source": [
    "\n",
    "TP = 2 \n",
    "FP = 2\n",
    "FN = 11\n",
    "TN = 985\n",
    "\n",
    "TPTN = 987\n",
    "TPFPFNTN = 1000\n",
    "print(TPTN / TPFPFNTN)\n",
    "## it is a good model because it is almost 100% right every time"
   ]
  },
  {
   "cell_type": "markdown",
   "metadata": {},
   "source": [
    "## 4. Line"
   ]
  },
  {
   "cell_type": "code",
   "execution_count": 37,
   "metadata": {},
   "outputs": [
    {
     "ename": "TypeError",
     "evalue": "can only concatenate tuple (not \"float\") to tuple",
     "output_type": "error",
     "traceback": [
      "\u001b[1;31m---------------------------------------------------------------------------\u001b[0m",
      "\u001b[1;31mTypeError\u001b[0m                                 Traceback (most recent call last)",
      "\u001b[1;32mc:\\Users\\FJ11003\\Documents\\Github\\Python-Filip-Jonsson\\Exercises\\00-Count-with-Python-exercise.ipynb Cell 11\u001b[0m in \u001b[0;36m<cell line: 6>\u001b[1;34m()\u001b[0m\n\u001b[0;32m      <a href='vscode-notebook-cell:/c%3A/Users/FJ11003/Documents/Github/Python-Filip-Jonsson/Exercises/00-Count-with-Python-exercise.ipynb#X20sZmlsZQ%3D%3D?line=2'>3</a>\u001b[0m M \u001b[39m=\u001b[39m \u001b[39m0\u001b[39m,\u001b[39m75\u001b[39m \u001b[39m+\u001b[39m \u001b[39m1\u001b[39m\u001b[39m/\u001b[39m\u001b[39m2\u001b[39m\u001b[39m*\u001b[39m\u001b[39m1\u001b[39m\u001b[39m+\u001b[39m \u001b[39m0\u001b[39m,\u001b[39m25\u001b[39m\n\u001b[0;32m      <a href='vscode-notebook-cell:/c%3A/Users/FJ11003/Documents/Github/Python-Filip-Jonsson/Exercises/00-Count-with-Python-exercise.ipynb#X20sZmlsZQ%3D%3D?line=4'>5</a>\u001b[0m K \u001b[39m=\u001b[39m (\u001b[39m1\u001b[39m\u001b[39m-\u001b[39m\u001b[39m4\u001b[39m)\u001b[39m/\u001b[39m(\u001b[39m0\u001b[39m\u001b[39m-\u001b[39m\u001b[39m4\u001b[39m)\n\u001b[1;32m----> <a href='vscode-notebook-cell:/c%3A/Users/FJ11003/Documents/Github/Python-Filip-Jonsson/Exercises/00-Count-with-Python-exercise.ipynb#X20sZmlsZQ%3D%3D?line=5'>6</a>\u001b[0m \u001b[39mtuple\u001b[39m (M\u001b[39m+\u001b[39;49mK)\n\u001b[0;32m      <a href='vscode-notebook-cell:/c%3A/Users/FJ11003/Documents/Github/Python-Filip-Jonsson/Exercises/00-Count-with-Python-exercise.ipynb#X20sZmlsZQ%3D%3D?line=6'>7</a>\u001b[0m \u001b[39mprint\u001b[39m (K)\n\u001b[0;32m      <a href='vscode-notebook-cell:/c%3A/Users/FJ11003/Documents/Github/Python-Filip-Jonsson/Exercises/00-Count-with-Python-exercise.ipynb#X20sZmlsZQ%3D%3D?line=7'>8</a>\u001b[0m \u001b[39mprint\u001b[39m (M\u001b[39m+\u001b[39mK)\n",
      "\u001b[1;31mTypeError\u001b[0m: can only concatenate tuple (not \"float\") to tuple"
     ]
    }
   ],
   "source": [
    "A = (4,4)\n",
    "B = (0,1)\n",
    "M = 0,75 + 1/2*1+ 0,25\n",
    "\n",
    "K = (1-4)/(0-4)\n",
    "\n",
    "print (K)\n",
    "print (M+K)\n"
   ]
  }
 ],
 "metadata": {
  "kernelspec": {
   "display_name": "Python 3.9.13 ('Python-Filip-Jonsson-QrgXjHvV')",
   "language": "python",
   "name": "python3"
  },
  "language_info": {
   "codemirror_mode": {
    "name": "ipython",
    "version": 3
   },
   "file_extension": ".py",
   "mimetype": "text/x-python",
   "name": "python",
   "nbconvert_exporter": "python",
   "pygments_lexer": "ipython3",
   "version": "3.9.13"
  },
  "orig_nbformat": 4,
  "vscode": {
   "interpreter": {
    "hash": "bf7a075d4e88d89235e152b5ba40ae2bd384c6fbf9c5ccafacee2ba85599004a"
   }
  }
 },
 "nbformat": 4,
 "nbformat_minor": 2
}
