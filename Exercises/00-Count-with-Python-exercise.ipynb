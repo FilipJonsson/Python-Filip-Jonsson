{
 "cells": [
  {
   "cell_type": "markdown",
   "metadata": {},
   "source": [
    "## Count with Python"
   ]
  },
  {
   "cell_type": "markdown",
   "metadata": {},
   "source": [
    "## 1. Pythagorean theoerm"
   ]
  },
  {
   "cell_type": "code",
   "execution_count": 14,
   "metadata": {},
   "outputs": [
    {
     "name": "stdout",
     "output_type": "stream",
     "text": [
      "5.0\n"
     ]
    }
   ],
   "source": [
    "import math\n",
    "\n",
    "cathet1 = a \n",
    "cathet2 = b \n",
    "\n",
    "a = 3\n",
    "b = 4 \n",
    "\n",
    "c = math.sqrt(a**2 + b**2)\n",
    "\n",
    "print (c)"
   ]
  }
 ],
 "metadata": {
  "kernelspec": {
   "display_name": "Python 3.9.13 ('Python-Filip-Jonsson-QrgXjHvV')",
   "language": "python",
   "name": "python3"
  },
  "language_info": {
   "codemirror_mode": {
    "name": "ipython",
    "version": 3
   },
   "file_extension": ".py",
   "mimetype": "text/x-python",
   "name": "python",
   "nbconvert_exporter": "python",
   "pygments_lexer": "ipython3",
   "version": "3.9.13"
  },
  "orig_nbformat": 4,
  "vscode": {
   "interpreter": {
    "hash": "bf7a075d4e88d89235e152b5ba40ae2bd384c6fbf9c5ccafacee2ba85599004a"
   }
  }
 },
 "nbformat": 4,
 "nbformat_minor": 2
}
