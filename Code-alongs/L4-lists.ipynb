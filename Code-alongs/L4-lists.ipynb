{
 "cells": [
  {
   "cell_type": "markdown",
   "metadata": {},
   "source": [
    "## Lists"
   ]
  },
  {
   "cell_type": "markdown",
   "metadata": {},
   "source": [
    "## Access elements"
   ]
  },
  {
   "cell_type": "code",
   "execution_count": 7,
   "metadata": {},
   "outputs": [
    {
     "name": "stdout",
     "output_type": "stream",
     "text": [
      "['pizza', 'lassagne', 'spaghetti', 'pancakes', 'banana', 'grapes']\n",
      "nice_foods[0]='pizza'\n",
      "nice_foods[-1]='grapes'\n",
      "nice_foods[5]='grapes'\n",
      "nice_foods[-3]='pancakes'\n"
     ]
    }
   ],
   "source": [
    "## Creates a new list with some elements\n",
    "nice_foods = [\"pizza\", \"lassagne\", \"spaghetti\", \"pancakes\", \"banana\", \"grapes\"]\n",
    "\n",
    "print(nice_foods)\n",
    "\n",
    "## gets first element\n",
    "print(f\"{nice_foods[0]=}\")\n",
    "## gets last element\n",
    "print(f\"{nice_foods[-1]=}\")\n",
    "print(f\"{nice_foods[5]=}\")\n",
    "\n",
    "## elemtne på index 3\n",
    "print(f\"{nice_foods[-3]=}\")"
   ]
  },
  {
   "cell_type": "markdown",
   "metadata": {},
   "source": [
    "## Slicing"
   ]
  },
  {
   "cell_type": "code",
   "execution_count": 14,
   "metadata": {},
   "outputs": [
    {
     "name": "stdout",
     "output_type": "stream",
     "text": [
      "['pizza', 'lassagne', 'spaghetti', 'pancakes', 'banana', 'grapes']\n",
      "nice_foods[1:4]=['lassagne', 'spaghetti', 'pancakes']\n",
      "nice_foods[:-1]=['pizza', 'lassagne', 'spaghetti', 'pancakes', 'banana']\n",
      "nice_foods[:4]=['pizza', 'lassagne', 'spaghetti', 'pancakes']\n",
      "nice_foods[::-1]=['grapes', 'banana', 'pancakes', 'spaghetti', 'lassagne', 'pizza']\n"
     ]
    }
   ],
   "source": [
    "print(nice_foods)\n",
    "print(f\"{nice_foods[1:4]=}\")\n",
    "print(f\"{nice_foods[:-1]=}\") ## 0 to -2\n",
    "\n",
    "print(f\"{nice_foods[:4]=}\") ## 0,1,2,3 \n",
    "\n",
    "print(f\"{nice_foods[::-1]=}\") ## reverses the list\n"
   ]
  },
  {
   "cell_type": "code",
   "execution_count": 16,
   "metadata": {},
   "outputs": [
    {
     "name": "stdout",
     "output_type": "stream",
     "text": [
      "['banana', 'grapes', 'lassagne', 'pancakes', 'pizza', 'spaghetti']\n",
      "[-5, 1, 2, 5]\n"
     ]
    }
   ],
   "source": [
    "## sorting by first letter\n",
    "nice_foods.sort()\n",
    "print(nice_foods)\n",
    "\n",
    "numbers = [2,1,5,-5]\n",
    "numbers.sort()\n",
    "\n",
    "## sorting ascending\n",
    "print(numbers)"
   ]
  },
  {
   "cell_type": "markdown",
   "metadata": {},
   "source": [
    "## for.loop with enumerate"
   ]
  },
  {
   "cell_type": "code",
   "execution_count": 19,
   "metadata": {},
   "outputs": [
    {
     "name": "stdout",
     "output_type": "stream",
     "text": [
      "['banana', 'grapes', 'lassagne', 'pancakes', 'pizza', 'spaghetti']\n",
      "1. banana\n",
      "2. grapes\n",
      "3. lassagne\n",
      "4. pancakes\n",
      "5. pizza\n",
      "6. spaghetti\n"
     ]
    }
   ],
   "source": [
    "print(nice_foods)\n",
    "\n",
    "## enumerate -> (index, element) in list\n",
    "for i, food in enumerate(nice_foods, 1):\n",
    "    print(f\"{i}. {food}\")"
   ]
  },
  {
   "cell_type": "markdown",
   "metadata": {},
   "source": [
    "## List comprehension"
   ]
  },
  {
   "cell_type": "code",
   "execution_count": 21,
   "metadata": {},
   "outputs": [
    {
     "data": {
      "text/plain": [
       "[0, 1, 8, 27, 64, 125, 216, 343, 512, 729]"
      ]
     },
     "execution_count": 21,
     "metadata": {},
     "output_type": "execute_result"
    }
   ],
   "source": [
    "## \"norml way\" using append\n",
    "cubes = []\n",
    "\n",
    "for i in range(10):\n",
    "    cubes.append(i**3) ## i^3\n",
    "\n",
    "cubes"
   ]
  },
  {
   "cell_type": "code",
   "execution_count": 22,
   "metadata": {},
   "outputs": [
    {
     "data": {
      "text/plain": [
       "[0, 1, 8, 27, 64, 125, 216, 343, 512, 729]"
      ]
     },
     "execution_count": 22,
     "metadata": {},
     "output_type": "execute_result"
    }
   ],
   "source": [
    "## list comprehension\n",
    "cubes = [i**3 for i in range(10)]\n",
    "cubes"
   ]
  },
  {
   "cell_type": "code",
   "execution_count": 23,
   "metadata": {},
   "outputs": [
    {
     "data": {
      "text/plain": [
       "[1, 27, 125, 343, 729]"
      ]
     },
     "execution_count": 23,
     "metadata": {},
     "output_type": "execute_result"
    }
   ],
   "source": [
    "## cubes every odd number\n",
    "cubes_odd = [i**3 for i in range(10) if i%2!=0]\n",
    "cubes_odd"
   ]
  },
  {
   "cell_type": "code",
   "execution_count": 25,
   "metadata": {},
   "outputs": [
    {
     "data": {
      "text/plain": [
       "[4, 6, 5, 4, 5, 2, 5, 2, 3, 3]"
      ]
     },
     "execution_count": 25,
     "metadata": {},
     "output_type": "execute_result"
    }
   ],
   "source": [
    "import random as rnd\n",
    "# dice list\n",
    "dices = [rnd.randint(1,6) for _ in range(10)] ## convention to use _ when not using the loop variable\n",
    "dices"
   ]
  },
  {
   "cell_type": "markdown",
   "metadata": {},
   "source": [
    "## lists in list"
   ]
  },
  {
   "cell_type": "code",
   "execution_count": 29,
   "metadata": {},
   "outputs": [
    {
     "name": "stdout",
     "output_type": "stream",
     "text": [
      "grades[1]=['B', 20]\n",
      "grades[1][0]='B'\n",
      "grades[1][1]=20\n"
     ]
    }
   ],
   "source": [
    "grades = [[\"A\", 25], [\"B\", 20], [\"F\", 5]]\n",
    "\n",
    "print(f\"{grades[1]=}\")\n",
    "print(f\"{grades[1][0]=}\")\n",
    "print(f\"{grades[1][1]=}\")\n"
   ]
  }
 ],
 "metadata": {
  "kernelspec": {
   "display_name": "Python 3.9.13 ('Python-Filip-Jonsson-QrgXjHvV')",
   "language": "python",
   "name": "python3"
  },
  "language_info": {
   "codemirror_mode": {
    "name": "ipython",
    "version": 3
   },
   "file_extension": ".py",
   "mimetype": "text/x-python",
   "name": "python",
   "nbconvert_exporter": "python",
   "pygments_lexer": "ipython3",
   "version": "3.9.13"
  },
  "orig_nbformat": 4,
  "vscode": {
   "interpreter": {
    "hash": "bf7a075d4e88d89235e152b5ba40ae2bd384c6fbf9c5ccafacee2ba85599004a"
   }
  }
 },
 "nbformat": 4,
 "nbformat_minor": 2
}
