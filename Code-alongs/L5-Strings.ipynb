{
 "cells": [
  {
   "cell_type": "markdown",
   "metadata": {},
   "source": [
    "## Strings"
   ]
  },
  {
   "cell_type": "code",
   "execution_count": 2,
   "metadata": {},
   "outputs": [
    {
     "name": "stdout",
     "output_type": "stream",
     "text": [
      "Filip Jonsson\n",
      "\n",
      "name:  Filip Jonsson,\n",
      "age:  31,\n",
      "address:  Göteborg,\n",
      "phone: 112\n",
      "\n"
     ]
    }
   ],
   "source": [
    "firstname = \"Filip\"\n",
    "lastname = \"Jonsson\"\n",
    "\n",
    "## concatinate strings\n",
    "name = firstname +\" \"+ lastname \n",
    "age = 31\n",
    "address = \"Göteborg\"\n",
    "phone = \"112\"\n",
    "\n",
    "print(name)\n",
    "\n",
    "\n",
    "contact = f\"\"\"\n",
    "name:  {name},\n",
    "age:  {age},\n",
    "address:  {address},\n",
    "phone: {phone}\n",
    "\"\"\"\n",
    "\n",
    "print(contact)\n"
   ]
  },
  {
   "cell_type": "markdown",
   "metadata": {},
   "source": [
    "## Iterate through lists and contactenates"
   ]
  },
  {
   "cell_type": "code",
   "execution_count": 3,
   "metadata": {},
   "outputs": [
    {
     "name": "stdout",
     "output_type": "stream",
     "text": [
      "Plan \n",
      "må: AI intro\n",
      "ti: Python\n",
      "ons: Matte\n",
      "tor: Självplugg\n",
      "fre: Chilla\n",
      "\n"
     ]
    }
   ],
   "source": [
    "schedule = [\"AI intro\", \"Python\", \"Matte\", \"Självplugg\", \"Chilla\"]\n",
    "days = [\"må\", \"ti\", \"ons\", \"tor\", \"fre\"]\n",
    "\n",
    "## \\n => newline\n",
    "week_plan = \"Plan \\n\"\n",
    "\n",
    "for day, task in zip(days, schedule):\n",
    "    week_plan += f\"{day}: {task}\\n\"\n",
    "\n",
    "print(week_plan)"
   ]
  },
  {
   "cell_type": "markdown",
   "metadata": {},
   "source": [
    "## Indexing"
   ]
  },
  {
   "cell_type": "code",
   "execution_count": 8,
   "metadata": {},
   "outputs": [
    {
     "name": "stdout",
     "output_type": "stream",
     "text": [
      "quote[0]='!'\n",
      "quote[-4:]='true'\n",
      "quote[-3:]='rue'\n",
      "backwards: quote[::-1]=\"eurt s'ti esuaceb ynnuf s'ti - eslaF!\"\n"
     ]
    }
   ],
   "source": [
    "quote = \"!False - it's funny because it's true\"\n",
    "\n",
    "print(f\"{quote[0]=}\")\n",
    "print(f\"{quote[-4:]=}\")\n",
    "print(f\"{quote[-3:]=}\")\n",
    "\n",
    "print(f\"backwards: {quote[::-1]=}\")\n",
    "\n",
    "print(f\"Length of string: {len(quote)} characters\")"
   ]
  },
  {
   "cell_type": "markdown",
   "metadata": {},
   "source": [
    "## Split strings"
   ]
  },
  {
   "cell_type": "code",
   "execution_count": 13,
   "metadata": {},
   "outputs": [
    {
     "name": "stdout",
     "output_type": "stream",
     "text": [
      "numbers=[2.0, 5.0, -2.0]\n",
      "mean_value=1.6666666666666667\n"
     ]
    }
   ],
   "source": [
    "## not possible\n",
    "##numbers = float(input(\"Ange tre tal (separerade med komatecken): \"))\n",
    "\n",
    "numbers = input(\"Ange tre tal (separerade med komatecken): \")\n",
    "## 1. split the string into a lit of 3 strings\n",
    "## 2. type convert each string into a float by iterating through list\n",
    "\n",
    "## list comprehension\n",
    "numbers = [float(number) for number in numbers.split(\",\")]\n",
    "mean_value = sum(numbers)/len(numbers)\n",
    "\n",
    "print(f\"{numbers=}\")\n",
    "print(f\"{mean_value=}\")\n"
   ]
  },
  {
   "cell_type": "markdown",
   "metadata": {},
   "source": [
    "## Regular expression"
   ]
  },
  {
   "cell_type": "markdown",
   "metadata": {},
   "source": [
    "## Regular expression\n",
    "\n",
    "- find patterns in a string\n",
    "- e.g. phone numbers, email, capital letters, sequences..."
   ]
  },
  {
   "cell_type": "code",
   "execution_count": 20,
   "metadata": {},
   "outputs": [
    {
     "name": "stdout",
     "output_type": "stream",
     "text": [
      "Mitt telefonnummer är 021-432512, Adas nummer är 040-321345, Bedas nummer är:     0739-245521\n",
      "['021-432512', '040-321345', '739-245521']\n",
      "['021-432512', '040-321345', '739-245521']\n"
     ]
    }
   ],
   "source": [
    "import re\n",
    "\n",
    "text = \"Mitt telefonnummer är 021-432512, Adas nummer är 040-321345, Bedas nummer är: \\\n",
    "    0739-245521\"\n",
    "\n",
    "print(text)\n",
    "\n",
    "## extract the numbers\n",
    "match1 = re.findall(r\"\\d\\d\\d-\\d\\d\\d\\d\\d\\d\", text) ## r\"\" - raw string\n",
    "print(match1)\n",
    "\n",
    "## print(r\"Hej\\då\")\n",
    "\n",
    "match2 = re.findall(r\"\\d{3}-\\d{6}\", text)\n",
    "print(match2)\n"
   ]
  },
  {
   "cell_type": "code",
   "execution_count": 21,
   "metadata": {},
   "outputs": [
    {
     "name": "stdout",
     "output_type": "stream",
     "text": [
      "['katt', 'hatt', 'matt', 'matt']\n"
     ]
    }
   ],
   "source": [
    "text = \"Det var en gång en katt, som tog sig på en hatt, och spelade schack, \\\n",
    "fick schackmatt med hjälp av schoolmatt\"\n",
    "\n",
    "match = re.findall(r\".att\", text)\n",
    "print(match)\n",
    "\n",
    "# try to extract the whole words that contains with \"att\""
   ]
  }
 ],
 "metadata": {
  "kernelspec": {
   "display_name": "Python 3.9.13 ('Python-Filip-Jonsson-QrgXjHvV')",
   "language": "python",
   "name": "python3"
  },
  "language_info": {
   "codemirror_mode": {
    "name": "ipython",
    "version": 3
   },
   "file_extension": ".py",
   "mimetype": "text/x-python",
   "name": "python",
   "nbconvert_exporter": "python",
   "pygments_lexer": "ipython3",
   "version": "3.9.13"
  },
  "orig_nbformat": 4,
  "vscode": {
   "interpreter": {
    "hash": "bf7a075d4e88d89235e152b5ba40ae2bd384c6fbf9c5ccafacee2ba85599004a"
   }
  }
 },
 "nbformat": 4,
 "nbformat_minor": 2
}
