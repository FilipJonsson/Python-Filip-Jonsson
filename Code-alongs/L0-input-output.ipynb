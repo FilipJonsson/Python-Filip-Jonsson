{
 "cells": [
  {
   "cell_type": "markdown",
   "metadata": {},
   "source": [
    "## Code along - Input-Output"
   ]
  },
  {
   "cell_type": "code",
   "execution_count": 2,
   "metadata": {},
   "outputs": [
    {
     "name": "stdout",
     "output_type": "stream",
     "text": [
      "hej Filip Jonsson, du är 19.8 gammal\n",
      "20\n"
     ]
    }
   ],
   "source": [
    "# variable - data type string\n",
    "# create a variable (\"box\") and assigns a value\n",
    "name = \"Filip Jonsson\"\n",
    "\n",
    "# variable - data type float\n",
    "age = 19.8\n",
    "\n",
    "# this is an f-string (formatted string)\n",
    "print(f\"hej {name}, du är {age} gammal\")\n",
    "\n",
    "# reassigns \n",
    "# note: bad practice \n",
    "name = 20\n",
    "\n",
    "print(name)"
   ]
  },
  {
   "cell_type": "markdown",
   "metadata": {},
   "source": [
    "## Inputs from user"
   ]
  },
  {
   "cell_type": "code",
   "execution_count": 3,
   "metadata": {},
   "outputs": [
    {
     "name": "stdout",
     "output_type": "stream",
     "text": [
      "Hello Filip, you are 19 years old\n"
     ]
    }
   ],
   "source": [
    "name = input(\"What is your name?\")\n",
    "age = input(\"What is your age?\")\n",
    "\n",
    "print(f\"Hello {name}, you are {age} years old\")"
   ]
  },
  {
   "cell_type": "markdown",
   "metadata": {},
   "source": [
    "## Calculations"
   ]
  },
  {
   "cell_type": "code",
   "execution_count": 4,
   "metadata": {},
   "outputs": [
    {
     "name": "stdout",
     "output_type": "stream",
     "text": [
      "Your force is 608.84 N\n"
     ]
    }
   ],
   "source": [
    "gravity = 9.82\n",
    "mass = 62\n",
    "\n",
    "force = mass*gravity\n",
    "\n",
    "print(f\"Your force is {force} N\")"
   ]
  },
  {
   "cell_type": "code",
   "execution_count": 4,
   "metadata": {},
   "outputs": [
    {
     "ename": "NameError",
     "evalue": "name 'gravity' is not defined",
     "output_type": "error",
     "traceback": [
      "\u001b[1;31m---------------------------------------------------------------------------\u001b[0m",
      "\u001b[1;31mNameError\u001b[0m                                 Traceback (most recent call last)",
      "\u001b[1;32mc:\\Users\\FJ11003\\Documents\\Github\\Python-Filip-Jonsson\\Code-alongs\\L0-input-output.ipynb Cell 7\u001b[0m in \u001b[0;36m<cell line: 4>\u001b[1;34m()\u001b[0m\n\u001b[0;32m      <a href='vscode-notebook-cell:/c%3A/Users/FJ11003/Documents/Github/Python-Filip-Jonsson/Code-alongs/L0-input-output.ipynb#X14sZmlsZQ%3D%3D?line=0'>1</a>\u001b[0m mass \u001b[39m=\u001b[39m \u001b[39minput\u001b[39m(\u001b[39m\"\u001b[39m\u001b[39mEnter your mass (kg): \u001b[39m\u001b[39m\"\u001b[39m) \u001b[39m# string\u001b[39;00m\n\u001b[0;32m      <a href='vscode-notebook-cell:/c%3A/Users/FJ11003/Documents/Github/Python-Filip-Jonsson/Code-alongs/L0-input-output.ipynb#X14sZmlsZQ%3D%3D?line=2'>3</a>\u001b[0m \u001b[39m# can't multiply string with a float\u001b[39;00m\n\u001b[1;32m----> <a href='vscode-notebook-cell:/c%3A/Users/FJ11003/Documents/Github/Python-Filip-Jonsson/Code-alongs/L0-input-output.ipynb#X14sZmlsZQ%3D%3D?line=3'>4</a>\u001b[0m force \u001b[39m=\u001b[39m mass\u001b[39m*\u001b[39mgravity\n",
      "\u001b[1;31mNameError\u001b[0m: name 'gravity' is not defined"
     ]
    }
   ],
   "source": [
    "mass = input(\"Enter your mass (kg): \") # string\n",
    "\n",
    "# can't multiply string with a float\n",
    "force = mass*gravity "
   ]
  },
  {
   "cell_type": "code",
   "execution_count": 5,
   "metadata": {},
   "outputs": [
    {
     "ename": "NameError",
     "evalue": "name 'gravity' is not defined",
     "output_type": "error",
     "traceback": [
      "\u001b[1;31m---------------------------------------------------------------------------\u001b[0m",
      "\u001b[1;31mNameError\u001b[0m                                 Traceback (most recent call last)",
      "\u001b[1;32mc:\\Users\\FJ11003\\Documents\\Github\\Python-Filip-Jonsson\\Code-alongs\\L0-input-output.ipynb Cell 8\u001b[0m in \u001b[0;36m<cell line: 4>\u001b[1;34m()\u001b[0m\n\u001b[0;32m      <a href='vscode-notebook-cell:/c%3A/Users/FJ11003/Documents/Github/Python-Filip-Jonsson/Code-alongs/L0-input-output.ipynb#X13sZmlsZQ%3D%3D?line=0'>1</a>\u001b[0m mass \u001b[39m=\u001b[39m \u001b[39mfloat\u001b[39m(\u001b[39minput\u001b[39m(\u001b[39m\"\u001b[39m\u001b[39mEnter your mass (kg): \u001b[39m\u001b[39m\"\u001b[39m)) \u001b[39m# string\u001b[39;00m\n\u001b[0;32m      <a href='vscode-notebook-cell:/c%3A/Users/FJ11003/Documents/Github/Python-Filip-Jonsson/Code-alongs/L0-input-output.ipynb#X13sZmlsZQ%3D%3D?line=2'>3</a>\u001b[0m \u001b[39m# can't multiply string with a float\u001b[39;00m\n\u001b[1;32m----> <a href='vscode-notebook-cell:/c%3A/Users/FJ11003/Documents/Github/Python-Filip-Jonsson/Code-alongs/L0-input-output.ipynb#X13sZmlsZQ%3D%3D?line=3'>4</a>\u001b[0m force \u001b[39m=\u001b[39m mass\u001b[39m*\u001b[39mgravity\n\u001b[0;32m      <a href='vscode-notebook-cell:/c%3A/Users/FJ11003/Documents/Github/Python-Filip-Jonsson/Code-alongs/L0-input-output.ipynb#X13sZmlsZQ%3D%3D?line=5'>6</a>\u001b[0m \u001b[39m# :.1f -> rounds to 1 decimal\u001b[39;00m\n\u001b[0;32m      <a href='vscode-notebook-cell:/c%3A/Users/FJ11003/Documents/Github/Python-Filip-Jonsson/Code-alongs/L0-input-output.ipynb#X13sZmlsZQ%3D%3D?line=6'>7</a>\u001b[0m \u001b[39mprint\u001b[39m(\u001b[39mf\u001b[39m\u001b[39m\"\u001b[39m\u001b[39m{\u001b[39;00mforce\u001b[39m=:\u001b[39;00m\u001b[39m.1f\u001b[39m\u001b[39m}\u001b[39;00m\u001b[39mN\u001b[39m\u001b[39m\"\u001b[39m)\n",
      "\u001b[1;31mNameError\u001b[0m: name 'gravity' is not defined"
     ]
    }
   ],
   "source": [
    "mass = float(input(\"Enter your mass (kg): \")) # string\n",
    "\n",
    "# can't multiply string with a float\n",
    "force = mass*gravity\n",
    "\n",
    "# :.1f -> rounds to 1 decimal\n",
    "print(f\"{force=:.1f}N\")\n",
    "# <=> print(f\"force={force:.1f}N\")\n",
    "\n",
    "# in order to print {} curly brackets\n",
    "print(f\"{force} \\u007b \\u007d\")\n",
    "print(f\"{{}}\")"
   ]
  }
 ],
 "metadata": {
  "kernelspec": {
   "display_name": "Python 3.9.13 ('Python-Filip-Jonsson-QrgXjHvV')",
   "language": "python",
   "name": "python3"
  },
  "language_info": {
   "codemirror_mode": {
    "name": "ipython",
    "version": 3
   },
   "file_extension": ".py",
   "mimetype": "text/x-python",
   "name": "python",
   "nbconvert_exporter": "python",
   "pygments_lexer": "ipython3",
   "version": "3.9.13"
  },
  "orig_nbformat": 4,
  "vscode": {
   "interpreter": {
    "hash": "bf7a075d4e88d89235e152b5ba40ae2bd384c6fbf9c5ccafacee2ba85599004a"
   }
  }
 },
 "nbformat": 4,
 "nbformat_minor": 2
}
